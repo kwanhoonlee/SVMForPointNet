{
 "cells": [
  {
   "cell_type": "markdown",
   "metadata": {},
   "source": [
    "# # 3.Models_2nd_classification"
   ]
  },
  {
   "cell_type": "markdown",
   "metadata": {},
   "source": [
    "### 1. import packages"
   ]
  },
  {
   "cell_type": "code",
   "execution_count": 1,
   "metadata": {},
   "outputs": [],
   "source": [
    "import pandas as pd\n",
    "import numpy as np\n",
    "from sklearn.model_selection import cross_val_score\n",
    "from sklearn import svm\n",
    "from sklearn import metrics\n",
    "from sklearn.model_selection import KFold, StratifiedKFold\n",
    "from imblearn.over_sampling import RandomOverSampler\n",
    "from sklearn.model_selection import train_test_split\n",
    "import matplotlib.pyplot as plt\n",
    "from sklearn.metrics import roc_curve, auc\n",
    "from sklearn.preprocessing import label_binarize"
   ]
  },
  {
   "cell_type": "markdown",
   "metadata": {},
   "source": [
    "### 2. data preprocessing"
   ]
  },
  {
   "cell_type": "code",
   "execution_count": 2,
   "metadata": {},
   "outputs": [],
   "source": [
    "data = pd.read_csv('./6ifc_2nd_v3.csv')\n",
    "data2 = data.drop_duplicates(subset=['X', 'Y', 'Z', 'areas', 'ax1s', 'ax2s', 'gyrations', 'volumes', 'subtype'], keep='first')\n",
    "\n",
    "windowA = data[data['subtype']=='IfcWindow-A']\n",
    "windowB = data[data['subtype']=='IfcWindow-B']\n",
    "window = pd.concat([windowA, windowB])\n",
    "window = window.drop_duplicates(subset=['X', 'Y', 'Z', 'areas', 'ax1s', 'ax2s', 'gyrations', 'volumes', 'subtype'], keep='first')\n",
    "\n",
    "doorA = data[data['subtype']=='IfcDoor-A']\n",
    "doorB = data[data['subtype']=='IfcDoor-B']\n",
    "door = pd.concat([doorA, doorB])\n",
    "door = door.drop_duplicates(subset=['X', 'Y', 'Z', 'areas', 'ax1s', 'ax2s', 'gyrations', 'volumes', 'subtype'], keep='first')\n",
    "\n",
    "columnA = data[data['subtype']=='IfcColumn-A']\n",
    "columnB = data[data['subtype']=='IfcColumn-B']\n",
    "column = pd.concat([columnA, columnB])\n",
    "column = column.drop_duplicates(subset=['X', 'Y', 'Z', 'areas', 'ax1s', 'ax2s', 'gyrations', 'volumes', 'subtype'], keep='first')"
   ]
  },
  {
   "cell_type": "markdown",
   "metadata": {},
   "source": [
    "## Run models WITHOUT relational information"
   ]
  },
  {
   "cell_type": "code",
   "execution_count": 6,
   "metadata": {},
   "outputs": [],
   "source": [
    "def classification_2nd_without_rel(data):\n",
    "\n",
    "    def get_upsampled(X, Y):\n",
    "        ros = RandomOverSampler()\n",
    "        X_upsampled, Y_upsampled = ros.fit_sample(X, Y)\n",
    "        return X_upsampled, Y_upsampled\n",
    "\n",
    "    X = data.drop(['subtype', 'bat_ids', 'global_ids', 'building', 'IfcDoor', 'IfcWallStandardCase', 'IfcWindow'], 1)\n",
    "    Y = data['subtype']\n",
    "\n",
    "    newX, newY = get_upsampled(X, Y)\n",
    "\n",
    "    X_train, X_test, y_train, y_test = train_test_split(newX, newY, test_size=0.2, random_state=0)\n",
    "\n",
    "    clf = svm.SVC(kernel='rbf', C=10, gamma=0.1, probability=True)\n",
    "    clf.fit(X_train, y_train)\n",
    "    acc = clf.score(X_test, y_test)\n",
    "\n",
    "    return acc"
   ]
  },
  {
   "cell_type": "code",
   "execution_count": 9,
   "metadata": {},
   "outputs": [
    {
     "name": "stdout",
     "output_type": "stream",
     "text": [
      "door_2nd classification result: 1.0\n",
      "window_2nd classification result: 1.0\n",
      "column_2nd classification result: 1.0\n"
     ]
    }
   ],
   "source": [
    "door_2nd_result = classification_2nd_without_rel(door)\n",
    "window_2nd_result = classification_2nd_without_rel(window)\n",
    "column_2nd_result = classification_2nd_without_rel(column)\n",
    "print (\"door_2nd classification result:\", door_2nd_result)\n",
    "print (\"window_2nd classification result:\", window_2nd_result)\n",
    "print (\"column_2nd classification result:\", column_2nd_result)"
   ]
  },
  {
   "cell_type": "markdown",
   "metadata": {},
   "source": [
    "## Run models WITH relational information"
   ]
  },
  {
   "cell_type": "code",
   "execution_count": 11,
   "metadata": {},
   "outputs": [],
   "source": [
    "def classification_2nd_with_rel(data):\n",
    "\n",
    "    def get_upsampled(X, Y):\n",
    "        ros = RandomOverSampler()\n",
    "        X_upsampled, Y_upsampled = ros.fit_sample(X, Y)\n",
    "        return X_upsampled, Y_upsampled\n",
    "\n",
    "    X = data.drop(['subtype', 'bat_ids', 'global_ids', 'building'], 1)\n",
    "    Y = data['subtype']\n",
    "\n",
    "    newX, newY = get_upsampled(X, Y)\n",
    "\n",
    "    X_train, X_test, y_train, y_test = train_test_split(newX, newY, test_size=0.2, random_state=0)\n",
    "\n",
    "    clf = svm.SVC(kernel='rbf', C=10, gamma=0.1, probability=True)\n",
    "    clf.fit(X_train, y_train)\n",
    "    acc = clf.score(X_test, y_test)\n",
    "\n",
    "    return acc"
   ]
  },
  {
   "cell_type": "code",
   "execution_count": 12,
   "metadata": {},
   "outputs": [
    {
     "name": "stdout",
     "output_type": "stream",
     "text": [
      "door_2nd classification result(rel): 1.0\n",
      "window_2nd classification result(rel): 1.0\n",
      "column_2nd classification result(rel): 1.0\n"
     ]
    }
   ],
   "source": [
    "door_2nd_result = classification_2nd_with_rel(door)\n",
    "window_2nd_result = classification_2nd_with_rel(window)\n",
    "column_2nd_result = classification_2nd_with_rel(column)\n",
    "print (\"door_2nd classification result(rel):\", door_2nd_result)\n",
    "print (\"window_2nd classification result(rel):\", window_2nd_result)\n",
    "print (\"column_2nd classification result(rel):\", column_2nd_result)"
   ]
  }
 ],
 "metadata": {
  "kernelspec": {
   "display_name": "Python 3",
   "language": "python",
   "name": "python3"
  },
  "language_info": {
   "codemirror_mode": {
    "name": "ipython",
    "version": 3
   },
   "file_extension": ".py",
   "mimetype": "text/x-python",
   "name": "python",
   "nbconvert_exporter": "python",
   "pygments_lexer": "ipython3",
   "version": "3.5.4"
  }
 },
 "nbformat": 4,
 "nbformat_minor": 2
}
